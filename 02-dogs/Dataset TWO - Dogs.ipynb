{
 "cells": [
  {
   "cell_type": "markdown",
   "metadata": {},
   "source": [
    "# Homework 7, Part Two: A dataset about dogs.\n",
    "\n",
    "Data from [a FOIL request to New York City](https://www.muckrock.com/foi/new-york-city-17/pet-licensing-data-for-new-york-city-23826/).\n",
    "\n",
    "Some of the questions get kind of weird in this one, especially later on. **Feel free to lean on ChatGPT for the crazier ones!** It might be an interesting exploration of how to ask problems or explain what your dataset looks like."
   ]
  },
  {
   "cell_type": "markdown",
   "metadata": {},
   "source": [
    "## Do your importing and your setup"
   ]
  },
  {
   "cell_type": "code",
   "execution_count": 5,
   "metadata": {},
   "outputs": [],
   "source": [
    "import pandas as pd\n",
    "import matplotlib.pyplot as plt\n",
    "import numpy as np"
   ]
  },
  {
   "cell_type": "markdown",
   "metadata": {},
   "source": [
    "## Read in the file `NYC_Dog_Licenses_Current_as_of_4-28-2016.xlsx` and look at the first five rows"
   ]
  },
  {
   "cell_type": "code",
   "execution_count": 7,
   "metadata": {},
   "outputs": [
    {
     "data": {
      "text/html": [
       "<div>\n",
       "<style scoped>\n",
       "    .dataframe tbody tr th:only-of-type {\n",
       "        vertical-align: middle;\n",
       "    }\n",
       "\n",
       "    .dataframe tbody tr th {\n",
       "        vertical-align: top;\n",
       "    }\n",
       "\n",
       "    .dataframe thead th {\n",
       "        text-align: right;\n",
       "    }\n",
       "</style>\n",
       "<table border=\"1\" class=\"dataframe\">\n",
       "  <thead>\n",
       "    <tr style=\"text-align: right;\">\n",
       "      <th></th>\n",
       "      <th>Owner Zip Code</th>\n",
       "      <th>Animal Name</th>\n",
       "      <th>Animal Gender</th>\n",
       "      <th>Primary Breed</th>\n",
       "      <th>Secondary Breed</th>\n",
       "      <th>Animal Dominant Color</th>\n",
       "      <th>Animal Secondary Color</th>\n",
       "      <th>Animal Third Color</th>\n",
       "      <th>Animal Birth</th>\n",
       "      <th>Spayed or Neut</th>\n",
       "      <th>Guard or Trained</th>\n",
       "      <th>Vaccinated</th>\n",
       "      <th>Application Date</th>\n",
       "      <th>License Issued Date</th>\n",
       "      <th>License Expired Date</th>\n",
       "    </tr>\n",
       "  </thead>\n",
       "  <tbody>\n",
       "    <tr>\n",
       "      <th>0</th>\n",
       "      <td>10024</td>\n",
       "      <td>BLUE MACK</td>\n",
       "      <td>M</td>\n",
       "      <td>Unknown</td>\n",
       "      <td>AIREDALE TERR</td>\n",
       "      <td>BROWN</td>\n",
       "      <td>BLACK</td>\n",
       "      <td>NaN</td>\n",
       "      <td>2007-11-01</td>\n",
       "      <td>Yes</td>\n",
       "      <td>No</td>\n",
       "      <td>Yes</td>\n",
       "      <td>2012-09-19 16:01:19.647</td>\n",
       "      <td>2015-09-19</td>\n",
       "      <td>2016-09-19</td>\n",
       "    </tr>\n",
       "    <tr>\n",
       "      <th>1</th>\n",
       "      <td>10461</td>\n",
       "      <td>Indie Zephir</td>\n",
       "      <td>M</td>\n",
       "      <td>Rottweiler</td>\n",
       "      <td>NaN</td>\n",
       "      <td>BLACK</td>\n",
       "      <td>TAN</td>\n",
       "      <td>NaN</td>\n",
       "      <td>2013-04-01</td>\n",
       "      <td>No</td>\n",
       "      <td>No</td>\n",
       "      <td>Yes</td>\n",
       "      <td>2013-09-20 11:41:36.647</td>\n",
       "      <td>2014-09-20</td>\n",
       "      <td>2018-09-20</td>\n",
       "    </tr>\n",
       "    <tr>\n",
       "      <th>2</th>\n",
       "      <td>10013</td>\n",
       "      <td>Bilal</td>\n",
       "      <td>M</td>\n",
       "      <td>Australian Cattledog</td>\n",
       "      <td>NaN</td>\n",
       "      <td>Rust</td>\n",
       "      <td>NaN</td>\n",
       "      <td>NaN</td>\n",
       "      <td>2014-09-01</td>\n",
       "      <td>Yes</td>\n",
       "      <td>NaN</td>\n",
       "      <td>No</td>\n",
       "      <td>2014-09-12 13:13:36.713</td>\n",
       "      <td>2014-09-12</td>\n",
       "      <td>2019-09-12</td>\n",
       "    </tr>\n",
       "    <tr>\n",
       "      <th>3</th>\n",
       "      <td>10025</td>\n",
       "      <td>Buddy</td>\n",
       "      <td>M</td>\n",
       "      <td>Unknown</td>\n",
       "      <td>Cockapoo</td>\n",
       "      <td>BLOND</td>\n",
       "      <td>WHITE</td>\n",
       "      <td>NaN</td>\n",
       "      <td>2008-04-01</td>\n",
       "      <td>Yes</td>\n",
       "      <td>No</td>\n",
       "      <td>Yes</td>\n",
       "      <td>2014-09-12 15:26:51.417</td>\n",
       "      <td>2014-09-12</td>\n",
       "      <td>2017-10-20</td>\n",
       "    </tr>\n",
       "    <tr>\n",
       "      <th>4</th>\n",
       "      <td>10013</td>\n",
       "      <td>Ali</td>\n",
       "      <td>M</td>\n",
       "      <td>Basenji</td>\n",
       "      <td>NaN</td>\n",
       "      <td>Black</td>\n",
       "      <td>NaN</td>\n",
       "      <td>NaN</td>\n",
       "      <td>2014-01-01</td>\n",
       "      <td>No</td>\n",
       "      <td>NaN</td>\n",
       "      <td>No</td>\n",
       "      <td>2014-09-12 15:43:17.707</td>\n",
       "      <td>2014-09-12</td>\n",
       "      <td>2019-09-12</td>\n",
       "    </tr>\n",
       "  </tbody>\n",
       "</table>\n",
       "</div>"
      ],
      "text/plain": [
       "   Owner Zip Code   Animal Name Animal Gender         Primary Breed  \\\n",
       "0           10024     BLUE MACK             M               Unknown   \n",
       "1           10461  Indie Zephir             M            Rottweiler   \n",
       "2           10013         Bilal             M  Australian Cattledog   \n",
       "3           10025         Buddy             M               Unknown   \n",
       "4           10013           Ali             M               Basenji   \n",
       "\n",
       "  Secondary Breed Animal Dominant Color Animal Secondary Color  \\\n",
       "0   AIREDALE TERR                 BROWN                  BLACK   \n",
       "1             NaN                 BLACK                    TAN   \n",
       "2             NaN                  Rust                    NaN   \n",
       "3        Cockapoo                 BLOND                  WHITE   \n",
       "4             NaN                 Black                    NaN   \n",
       "\n",
       "  Animal Third Color Animal Birth Spayed or Neut Guard or Trained Vaccinated  \\\n",
       "0                NaN   2007-11-01            Yes               No        Yes   \n",
       "1                NaN   2013-04-01             No               No        Yes   \n",
       "2                NaN   2014-09-01            Yes              NaN         No   \n",
       "3                NaN   2008-04-01            Yes               No        Yes   \n",
       "4                NaN   2014-01-01             No              NaN         No   \n",
       "\n",
       "         Application Date License Issued Date License Expired Date  \n",
       "0 2012-09-19 16:01:19.647          2015-09-19           2016-09-19  \n",
       "1 2013-09-20 11:41:36.647          2014-09-20           2018-09-20  \n",
       "2 2014-09-12 13:13:36.713          2014-09-12           2019-09-12  \n",
       "3 2014-09-12 15:26:51.417          2014-09-12           2017-10-20  \n",
       "4 2014-09-12 15:43:17.707          2014-09-12           2019-09-12  "
      ]
     },
     "execution_count": 7,
     "metadata": {},
     "output_type": "execute_result"
    }
   ],
   "source": [
    "df = pd.read_excel('NYC_Dog_Licenses_Current_as_of_4-28-2016.xlsx')\n",
    "df.head(5)"
   ]
  },
  {
   "cell_type": "markdown",
   "metadata": {},
   "source": [
    "## How many rows do you have in the data? What are the column types?\n",
    "\n",
    "If there are more than 30,000 rows in your dataset, go back and only read in the first 30,000."
   ]
  },
  {
   "cell_type": "code",
   "execution_count": 17,
   "metadata": {},
   "outputs": [],
   "source": [
    "len(df.index)\n",
    "df = df.head(30000)"
   ]
  },
  {
   "cell_type": "code",
   "execution_count": 18,
   "metadata": {},
   "outputs": [
    {
     "name": "stdout",
     "output_type": "stream",
     "text": [
      "<class 'pandas.core.frame.DataFrame'>\n",
      "RangeIndex: 30000 entries, 0 to 29999\n",
      "Data columns (total 15 columns):\n",
      " #   Column                  Non-Null Count  Dtype         \n",
      "---  ------                  --------------  -----         \n",
      " 0   Owner Zip Code          30000 non-null  int64         \n",
      " 1   Animal Name             29939 non-null  object        \n",
      " 2   Animal Gender           30000 non-null  object        \n",
      " 3   Primary Breed           30000 non-null  object        \n",
      " 4   Secondary Breed         3988 non-null   object        \n",
      " 5   Animal Dominant Color   29885 non-null  object        \n",
      " 6   Animal Secondary Color  20946 non-null  object        \n",
      " 7   Animal Third Color      6629 non-null   object        \n",
      " 8   Animal Birth            30000 non-null  datetime64[ns]\n",
      " 9   Spayed or Neut          30000 non-null  object        \n",
      " 10  Guard or Trained        19826 non-null  object        \n",
      " 11  Vaccinated              30000 non-null  object        \n",
      " 12  Application Date        30000 non-null  datetime64[ns]\n",
      " 13  License Issued Date     30000 non-null  datetime64[ns]\n",
      " 14  License Expired Date    30000 non-null  datetime64[ns]\n",
      "dtypes: datetime64[ns](4), int64(1), object(10)\n",
      "memory usage: 3.4+ MB\n"
     ]
    }
   ],
   "source": [
    "df.info()"
   ]
  },
  {
   "cell_type": "markdown",
   "metadata": {},
   "source": [
    "## Describe the dataset in words. What is each row? List two column titles along with what each of those columns means.\n",
    "\n",
    "For example: “Each row is an animal in the zoo. `is_reptile` is whether the animal is a reptile or not”"
   ]
  },
  {
   "cell_type": "markdown",
   "metadata": {},
   "source": [
    "**Answer:** Each row pertains to a registered dog. `Animal Name` refers to the name of the animal, and `Owner Zip Code` shows where it was registered."
   ]
  },
  {
   "cell_type": "markdown",
   "metadata": {},
   "source": [
    "# Your thoughts\n",
    "\n",
    "Think of three questions you could ask this dataset. **Don't ask them**, just write them down in the cell below. Feel free to use either Markdown or Python comments."
   ]
  },
  {
   "cell_type": "markdown",
   "metadata": {},
   "source": [
    "**Answer:**\n",
    "1. What percentage of the dogs on the list were vaccinated?\n",
    "2. What percentage of the dogs on the list were spayed or neutered?\n",
    "3. What are the most popular dog breeds on the list?"
   ]
  },
  {
   "cell_type": "markdown",
   "metadata": {},
   "source": [
    "# Looking at some dogs"
   ]
  },
  {
   "cell_type": "markdown",
   "metadata": {},
   "source": [
    "## What are the most popular (primary) breeds of dogs? Graph the top 10."
   ]
  },
  {
   "cell_type": "code",
   "execution_count": 41,
   "metadata": {},
   "outputs": [
    {
     "data": {
      "text/plain": [
       "<Axes: ylabel='Primary Breed'>"
      ]
     },
     "execution_count": 41,
     "metadata": {},
     "output_type": "execute_result"
    },
    {
     "data": {
      "image/png": "[encoded data removed]",
      "text/plain": [
       "<Figure size 640x480 with 1 Axes>"
      ]
     },
     "metadata": {},
     "output_type": "display_data"
    }
   ],
   "source": [
    "df['Primary Breed'].value_counts().head(10).plot(kind='barh')"
   ]
  },
  {
   "cell_type": "markdown",
   "metadata": {},
   "source": [
    "## \"Unknown\" is a terrible breed! Graph the top 10 breeds that are NOT Unknown\n",
    "\n",
    "...maybe \"unknown\" should just count as missing data?"
   ]
  },
  {
   "cell_type": "code",
   "execution_count": 48,
   "metadata": {},
   "outputs": [
    {
     "data": {
      "text/plain": [
       "<Axes: ylabel='Primary Breed'>"
      ]
     },
     "execution_count": 48,
     "metadata": {},
     "output_type": "execute_result"
    },
    {
     "data": {
      "image/png": "[encoded data removed]",
      "text/plain": [
       "<Figure size 640x480 with 1 Axes>"
      ]
     },
     "metadata": {},
     "output_type": "display_data"
    }
   ],
   "source": [
    "df['Primary Breed'][df['Primary Breed'] != 'Unknown'].value_counts().head(10).plot(kind='barh')"
   ]
  },
  {
   "cell_type": "markdown",
   "metadata": {},
   "source": [
    "## What are the most popular dog names?"
   ]
  },
  {
   "cell_type": "code",
   "execution_count": 71,
   "metadata": {},
   "outputs": [
    {
     "data": {
      "text/plain": [
       "Animal Name\n",
       "Max              202\n",
       "Bella            193\n",
       "Charlie          172\n",
       "Lola             146\n",
       "Rocky            140\n",
       "                ... \n",
       "Bluno              1\n",
       "DARBY              1\n",
       "CHARLEY VIVAR      1\n",
       "TINY               1\n",
       "Squeeze            1\n",
       "Name: count, Length: 13715, dtype: int64"
      ]
     },
     "execution_count": 71,
     "metadata": {},
     "output_type": "execute_result"
    }
   ],
   "source": [
    "df['Animal Name'][df['Animal Name'].str.lower() != \"unknown\"].value_counts()"
   ]
  },
  {
   "cell_type": "markdown",
   "metadata": {},
   "source": [
    "## Do any dogs have your name? How many dogs are named \"Max,\" and how many are named \"Maxwell\"?"
   ]
  },
  {
   "cell_type": "code",
   "execution_count": 331,
   "metadata": {},
   "outputs": [
    {
     "data": {
      "text/plain": [
       "5"
      ]
     },
     "execution_count": 331,
     "metadata": {},
     "output_type": "execute_result"
    }
   ],
   "source": [
    "cherry = df['Animal Name'][df['Animal Name'].str.lower() == 'cherry']\n",
    "cherry.count()"
   ]
  },
  {
   "cell_type": "code",
   "execution_count": 170,
   "metadata": {},
   "outputs": [
    {
     "data": {
      "text/plain": [
       "256"
      ]
     },
     "execution_count": 170,
     "metadata": {},
     "output_type": "execute_result"
    }
   ],
   "source": [
    "max = df['Animal Name'][df['Animal Name'].str.lower() == 'max']\n",
    "max.count()"
   ]
  },
  {
   "cell_type": "code",
   "execution_count": 171,
   "metadata": {},
   "outputs": [
    {
     "data": {
      "text/plain": [
       "13"
      ]
     },
     "execution_count": 171,
     "metadata": {},
     "output_type": "execute_result"
    }
   ],
   "source": [
    "maxwell = df['Animal Name'][df['Animal Name'].str.lower() == 'maxwell']\n",
    "maxwell.count()"
   ]
  },
  {
   "cell_type": "markdown",
   "metadata": {},
   "source": [
    "## What percentage of dogs are guard dogs?"
   ]
  },
  {
   "cell_type": "code",
   "execution_count": 90,
   "metadata": {},
   "outputs": [
    {
     "data": {
      "text/plain": [
       "Guard or Trained\n",
       "No     99.914254\n",
       "Yes     0.085746\n",
       "Name: proportion, dtype: float64"
      ]
     },
     "execution_count": 90,
     "metadata": {},
     "output_type": "execute_result"
    }
   ],
   "source": [
    "df['Guard or Trained'].value_counts(normalize=True).mul(100)"
   ]
  },
  {
   "cell_type": "markdown",
   "metadata": {},
   "source": [
    "## What are the actual numbers?"
   ]
  },
  {
   "cell_type": "code",
   "execution_count": 91,
   "metadata": {},
   "outputs": [
    {
     "data": {
      "text/plain": [
       "Guard or Trained\n",
       "No     19809\n",
       "Yes       17\n",
       "Name: count, dtype: int64"
      ]
     },
     "execution_count": 91,
     "metadata": {},
     "output_type": "execute_result"
    }
   ],
   "source": [
    "df['Guard or Trained'].value_counts()"
   ]
  },
  {
   "cell_type": "markdown",
   "metadata": {},
   "source": [
    "## Wait... if you add that up, is it the same as your number of rows? Where are the other dogs???? How can we find them??????\n",
    "\n",
    "Use your `.head()` to think about it, then you'll be a little more specific when using `.value_counts()`"
   ]
  },
  {
   "cell_type": "code",
   "execution_count": 92,
   "metadata": {},
   "outputs": [
    {
     "data": {
      "text/plain": [
       "Guard or Trained\n",
       "No     19809\n",
       "NaN    10174\n",
       "Yes       17\n",
       "Name: count, dtype: int64"
      ]
     },
     "execution_count": 92,
     "metadata": {},
     "output_type": "execute_result"
    }
   ],
   "source": [
    "df['Guard or Trained'].value_counts(dropna=False)"
   ]
  },
  {
   "cell_type": "markdown",
   "metadata": {},
   "source": [
    "## Fill in all of those empty \"Guard or Trained\" columns with \"No\"\n",
    "\n",
    "In this case, it seems nicer than missing data. Then check your result with another `.value_counts()`"
   ]
  },
  {
   "cell_type": "code",
   "execution_count": 97,
   "metadata": {},
   "outputs": [
    {
     "data": {
      "text/plain": [
       "Guard or Trained\n",
       "No     29983\n",
       "Yes       17\n",
       "Name: count, dtype: int64"
      ]
     },
     "execution_count": 97,
     "metadata": {},
     "output_type": "execute_result"
    }
   ],
   "source": [
    "df['Guard or Trained'].fillna('No', inplace=True)\n",
    "df['Guard or Trained'].value_counts(dropna=False)"
   ]
  },
  {
   "cell_type": "markdown",
   "metadata": {},
   "source": [
    "## What are the top dog breeds for guard dogs? "
   ]
  },
  {
   "cell_type": "code",
   "execution_count": 249,
   "metadata": {},
   "outputs": [
    {
     "data": {
      "text/plain": [
       "Primary Breed\n",
       "German Shepherd Dog           3\n",
       "Doberman Pinscher             1\n",
       "German Shepherd Crossbreed    1\n",
       "Golden Retriever              1\n",
       "Labrador Retriever            1\n",
       "Poodle, Standard              1\n",
       "Rottweiler                    1\n",
       "Schnauzer, Miniature          1\n",
       "Shih Tzu                      1\n",
       "Yorkshire Terrier             1\n",
       "Name: count, dtype: int64"
      ]
     },
     "execution_count": 249,
     "metadata": {},
     "output_type": "execute_result"
    }
   ],
   "source": [
    "df.replace(['Unknown', 'unknown', 'UNKNOWN', 'NO NAME'], pd.NA, inplace=True)\n",
    "df[df['Guard or Trained'].str.lower() == 'yes'].value_counts('Primary Breed')"
   ]
  },
  {
   "cell_type": "markdown",
   "metadata": {},
   "source": [
    "## Create a new column called \"year\" that is the dog's year of birth\n",
    "\n",
    "If `Animal Birth` is a datetime it makes things much easier."
   ]
  },
  {
   "cell_type": "code",
   "execution_count": 120,
   "metadata": {},
   "outputs": [],
   "source": [
    "df['Year'] = df['Animal Birth'].dt.year"
   ]
  },
  {
   "cell_type": "markdown",
   "metadata": {},
   "source": [
    "## Calculate a new column called “age” that shows approximately how old the dog is. How old are dogs on average?"
   ]
  },
  {
   "cell_type": "code",
   "execution_count": 334,
   "metadata": {},
   "outputs": [
    {
     "data": {
      "text/plain": [
       "14.712433333333333"
      ]
     },
     "execution_count": 334,
     "metadata": {},
     "output_type": "execute_result"
    }
   ],
   "source": [
    "df['Age'] = 2024 - df['Year']\n",
    "df['Age'].mean()"
   ]
  },
  {
   "cell_type": "markdown",
   "metadata": {},
   "source": [
    "# Joining data together"
   ]
  },
  {
   "cell_type": "code",
   "execution_count": 335,
   "metadata": {},
   "outputs": [],
   "source": [
    "zip = pd.read_csv('zipcodes-neighborhoods.csv')"
   ]
  },
  {
   "cell_type": "markdown",
   "metadata": {},
   "source": [
    "## Which neighborhood does each dog live in?\n",
    "\n",
    "You also have a (terrible) list of NYC neighborhoods in `zipcodes-neighborhoods.csv`. Join these two datasets together, so we know what neighborhood each dog lives in. **Be sure to not read it in as `df`, or else you'll overwrite your dogs dataframe.**\n",
    "\n",
    "Here's an example of how you can merge two dataframes:\n",
    "\n",
    "```python\n",
    "merged = prisons_df.merge(states_df, left_on='state', right_on='name')\n",
    "```\n",
    "\n",
    "In the example above, `prisons_df` has a column called `state` that matches with the `name` column of `states_df`. The columns of `states_df` are then added to `prisons_df` and returned as a new dataframe called `merged`.\n",
    "\n",
    "> **Rows without a match get discarded because it is an [inner join](https://pandas.pydata.org/docs/reference/api/pandas.DataFrame.merge.html).** I think left joins are probably the most common (keep rows from the \"left\" df even if they don't have a match in the right. For example, by default a prison with the state of `PUERTO RICO` would be dropped if PR wasn't in `states_df`, but if you changed it to `how='left'` it would be preserved, but the additional columns would just be `NaN`."
   ]
  },
  {
   "cell_type": "code",
   "execution_count": 132,
   "metadata": {},
   "outputs": [],
   "source": [
    "merged = df.merge(zip, left_on='Owner Zip Code', right_on='zip')"
   ]
  },
  {
   "cell_type": "markdown",
   "metadata": {},
   "source": [
    "## What is the most popular dog name in all parts of the Bronx? How about Brooklyn? The Upper East Side?"
   ]
  },
  {
   "cell_type": "code",
   "execution_count": 250,
   "metadata": {},
   "outputs": [
    {
     "data": {
      "text/plain": [
       "Animal Name\n",
       "Bella    22\n",
       "Name: count, dtype: int64"
      ]
     },
     "execution_count": 250,
     "metadata": {},
     "output_type": "execute_result"
    }
   ],
   "source": [
    "merged.replace(['Unknown', 'unknown', 'UNKNOWN', 'NO NAME'], pd.NA, inplace=True)\n",
    "merged[merged['borough'] == 'Bronx'].value_counts('Animal Name').head(1)"
   ]
  },
  {
   "cell_type": "code",
   "execution_count": 251,
   "metadata": {},
   "outputs": [
    {
     "data": {
      "text/plain": [
       "Animal Name\n",
       "Bella    22\n",
       "Name: count, dtype: int64"
      ]
     },
     "execution_count": 251,
     "metadata": {},
     "output_type": "execute_result"
    }
   ],
   "source": [
    "merged[merged['borough'] == 'Bronx'].value_counts('Animal Name').head(1)"
   ]
  },
  {
   "cell_type": "code",
   "execution_count": 252,
   "metadata": {},
   "outputs": [
    {
     "data": {
      "text/plain": [
       "Animal Name\n",
       "Charlie    19\n",
       "Name: count, dtype: int64"
      ]
     },
     "execution_count": 252,
     "metadata": {},
     "output_type": "execute_result"
    }
   ],
   "source": [
    "merged[merged['neighborhood'] == 'Upper East Side'].value_counts('Animal Name').head(1)"
   ]
  },
  {
   "cell_type": "markdown",
   "metadata": {},
   "source": [
    "## What is the most common dog breed in each of the neighborhoods of NYC?"
   ]
  },
  {
   "cell_type": "code",
   "execution_count": 222,
   "metadata": {},
   "outputs": [
    {
     "data": {
      "text/plain": [
       "neighborhood\n",
       "Borough Park                                                     Yorkshire Terrier\n",
       "Bronx Park and Fordham                                           Yorkshire Terrier\n",
       "Bushwick and Williamsburg                                        Yorkshire Terrier\n",
       "Canarsie and Flatlands                                                    Shih Tzu\n",
       "Central Bronx                                                    Yorkshire Terrier\n",
       "Central Brooklyn                                                          Shih Tzu\n",
       "Central Harlem                                                           Chihuahua\n",
       "Central Queens                                                   Yorkshire Terrier\n",
       "Chelsea and Clinton                                                      Chihuahua\n",
       "East Harlem                                                      Yorkshire Terrier\n",
       "East New York and New Lots                                       Yorkshire Terrier\n",
       "Flatbush                                                                  Shih Tzu\n",
       "Gramercy Park and Murray Hill                                    Yorkshire Terrier\n",
       "Greenpoint                                                               Chihuahua\n",
       "Greenwich Village and Soho                                      Labrador Retriever\n",
       "High Bridge and Morrisania                                                Shih Tzu\n",
       "Hunts Point and Mott Haven                                               Chihuahua\n",
       "Inwood and Washington Heights                                            Chihuahua\n",
       "Jamaica                                                          Yorkshire Terrier\n",
       "Kingsbridge and Riverdale                                                 Shih Tzu\n",
       "Lower East Side                                                          Chihuahua\n",
       "Lower Manhattan                                                           Shih Tzu\n",
       "Mid-Island                                                       Yorkshire Terrier\n",
       "North Queens                                                               Maltese\n",
       "Northeast Bronx                                                  Yorkshire Terrier\n",
       "Northeast Queens                                                           Maltese\n",
       "Northwest Brooklyn                                              Labrador Retriever\n",
       "Northwest Queens                                                         Chihuahua\n",
       "Port Richmond                    [American Pit Bull Mix / Pit Bull Mix, Yorkshi...\n",
       "Rockaways                                                                 Shih Tzu\n",
       "South Shore                                                               Shih Tzu\n",
       "Southeast Bronx                                                           Shih Tzu\n",
       "Southeast Queens                                                 Yorkshire Terrier\n",
       "Southern Brooklyn                                                Yorkshire Terrier\n",
       "Southwest Brooklyn                                                        Shih Tzu\n",
       "Southwest Queens                                                 Yorkshire Terrier\n",
       "Stapleton and St. George                                                  Shih Tzu\n",
       "Sunset Park                                                      Yorkshire Terrier\n",
       "Upper East Side                                                           Havanese\n",
       "Upper West Side                                                 Labrador Retriever\n",
       "West Central Queens                                              Yorkshire Terrier\n",
       "West Queens                                                               Shih Tzu\n",
       "Name: Primary Breed, dtype: object"
      ]
     },
     "execution_count": 222,
     "metadata": {},
     "output_type": "execute_result"
    }
   ],
   "source": [
    "merged.groupby('neighborhood')['Primary Breed'].agg(pd.Series.mode)\n",
    "# `agg(pd.Series.mode)` finds the mode / most common value in filtered columns"
   ]
  },
  {
   "cell_type": "code",
   "execution_count": 290,
   "metadata": {},
   "outputs": [
    {
     "data": {
      "text/plain": [
       "Primary Breed\n",
       "Yorkshire Terrier                                            16\n",
       "Shih Tzu                                                     12\n",
       "Chihuahua                                                     7\n",
       "Labrador Retriever                                            3\n",
       "Maltese                                                       2\n",
       "[American Pit Bull Mix / Pit Bull Mix, Yorkshire Terrier]     1\n",
       "Havanese                                                      1\n",
       "Name: count, dtype: int64"
      ]
     },
     "execution_count": 290,
     "metadata": {},
     "output_type": "execute_result"
    }
   ],
   "source": [
    "# Identifies which dog breeds are the most common, among the most common dog breeds per neighborhood\n",
    "merged.groupby('neighborhood')['Primary Breed'].agg(pd.Series.mode).value_counts()"
   ]
  },
  {
   "cell_type": "markdown",
   "metadata": {},
   "source": [
    "## What breed of dogs are the least likely to be spayed/neutered? Male or female?"
   ]
  },
  {
   "cell_type": "code",
   "execution_count": 328,
   "metadata": {},
   "outputs": [
    {
     "data": {
      "text/plain": [
       "Primary Breed\n",
       "Yorkshire Terrier                     531\n",
       "Shih Tzu                              401\n",
       "Chihuahua                             303\n",
       "Maltese                               300\n",
       "American Pit Bull Terrier/Pit Bull    173\n",
       "Name: count, dtype: int64"
      ]
     },
     "execution_count": 328,
     "metadata": {},
     "output_type": "execute_result"
    }
   ],
   "source": [
    "# filter by breed\n",
    "# identify whether spayed / neutered\n",
    "\n",
    "merged['Primary Breed'][(merged['Spayed or Neut'] == 'No')].value_counts().head(5)"
   ]
  },
  {
   "cell_type": "code",
   "execution_count": 329,
   "metadata": {},
   "outputs": [
    {
     "data": {
      "text/plain": [
       "Animal Gender\n",
       "M    3343\n",
       "F    1930\n",
       "Name: count, dtype: int64"
      ]
     },
     "execution_count": 329,
     "metadata": {},
     "output_type": "execute_result"
    }
   ],
   "source": [
    "# Identifies which breeds are spayed/neutered AND female\n",
    "# merged[(merged['Spayed or Neut'] == 'Yes') & (merged['Animal Gender'] < 'F')].value_counts('Primary Breed').tail()\n",
    "\n",
    "# filter by gender\n",
    "# identify whether spayed / neutered\n",
    "\n",
    "merged['Animal Gender'][(merged['Spayed or Neut'] == 'No')].value_counts()\n",
    "# Answer: male dogs are least likely to neutered."
   ]
  },
  {
   "cell_type": "markdown",
   "metadata": {},
   "source": [
    "## How many dogs are in each borough? Plot it in a graph.\n",
    "\n",
    "When plotting, use `kind='barh'`. I didn't say this in class, but horizontal bar graphs are the only graphs I like!"
   ]
  },
  {
   "cell_type": "code",
   "execution_count": 256,
   "metadata": {},
   "outputs": [
    {
     "data": {
      "text/plain": [
       "<Axes: ylabel='borough'>"
      ]
     },
     "execution_count": 256,
     "metadata": {},
     "output_type": "execute_result"
    },
    {
     "data": {
      "image/png": "[encoded data removed]",
      "text/plain": [
       "<Figure size 640x480 with 1 Axes>"
      ]
     },
     "metadata": {},
     "output_type": "display_data"
    }
   ],
   "source": [
    "merged.replace(['Unknown', 'unknown', 'UNKNOWN', 'NO NAME'], pd.NA, inplace=True)\n",
    "# merged.groupby('borough')['Animal Name'].value_counts(dropna=False)\n",
    "merged.groupby('borough')['Animal Name'].count().plot(kind='barh')"
   ]
  },
  {
   "cell_type": "markdown",
   "metadata": {},
   "source": [
    "## Which borough has the highest number of dogs per-capita?\n",
    "\n",
    "You’ll need to merge in `population_boro.csv`"
   ]
  },
  {
   "cell_type": "code",
   "execution_count": 257,
   "metadata": {},
   "outputs": [],
   "source": [
    "nycpop = pd.read_csv('boro_population.csv')\n",
    "\n",
    "percapita = merged.merge(nycpop, left_on='borough', right_on='borough')"
   ]
  },
  {
   "cell_type": "markdown",
   "metadata": {},
   "source": [
    "## Make a bar graph of the top 5 breeds in each borough.\n",
    "\n",
    "How do you groupby and then only take the top X number? This is very crazy, so ask in Slack, or a TA, or our buddy ChatGPT."
   ]
  },
  {
   "cell_type": "code",
   "execution_count": 277,
   "metadata": {},
   "outputs": [
    {
     "data": {
      "text/plain": [
       "borough        Primary Breed                     \n",
       "Bronx          Yorkshire Terrier                     250\n",
       "               Shih Tzu                              244\n",
       "               Chihuahua                             208\n",
       "               American Pit Bull Terrier/Pit Bull    181\n",
       "               Maltese                               139\n",
       "Brooklyn       Yorkshire Terrier                     501\n",
       "               Shih Tzu                              481\n",
       "               Chihuahua                             391\n",
       "               Labrador Retriever                    255\n",
       "               Maltese                               247\n",
       "Manhattan      Chihuahua                             511\n",
       "               Yorkshire Terrier                     505\n",
       "               Shih Tzu                              454\n",
       "               Labrador Retriever                    422\n",
       "               Maltese                               332\n",
       "Queens         Yorkshire Terrier                     434\n",
       "               Shih Tzu                              395\n",
       "               Chihuahua                             306\n",
       "               Maltese                               305\n",
       "               Labrador Retriever                    208\n",
       "Staten Island  Yorkshire Terrier                     171\n",
       "               Shih Tzu                              165\n",
       "               Labrador Retriever                    123\n",
       "               Chihuahua                             100\n",
       "               Maltese                                93\n",
       "Name: count, dtype: int64"
      ]
     },
     "execution_count": 277,
     "metadata": {},
     "output_type": "execute_result"
    }
   ],
   "source": [
    "percapita.groupby('borough')['Primary Breed'].value_counts().groupby('borough').head(5)"
   ]
  },
  {
   "cell_type": "code",
   "execution_count": 336,
   "metadata": {},
   "outputs": [
    {
     "data": {
      "text/plain": [
       "<Axes: ylabel='borough'>"
      ]
     },
     "execution_count": 336,
     "metadata": {},
     "output_type": "execute_result"
    },
    {
     "data": {
      "image/png": "[encoded data removed]",
      "text/plain": [
       "<Figure size 1000x600 with 1 Axes>"
      ]
     },
     "metadata": {},
     "output_type": "display_data"
    }
   ],
   "source": [
    "breed_count = percapita.groupby('borough')['Primary Breed'].value_counts().groupby('borough').head(5)\n",
    "breed_count.unstack().plot(kind='barh', stacked=True, figsize=(10, 6))"
   ]
  },
  {
   "cell_type": "code",
   "execution_count": null,
   "metadata": {},
   "outputs": [],
   "source": []
  }
 ],
 "metadata": {
  "kernelspec": {
   "display_name": "Python 3 (ipykernel)",
   "language": "python",
   "name": "python3"
  },
  "language_info": {
   "codemirror_mode": {
    "name": "ipython",
    "version": 3
   },
   "file_extension": ".py",
   "mimetype": "text/x-python",
   "name": "python",
   "nbconvert_exporter": "python",
   "pygments_lexer": "ipython3",
   "version": "3.11.8"
  }
 },
 "nbformat": 4,
 "nbformat_minor": 4
}
